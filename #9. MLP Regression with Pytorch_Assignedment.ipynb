{
 "cells": [
  {
   "cell_type": "markdown",
   "id": "9f672516",
   "metadata": {},
   "source": [
    "# Assignment1. MNIST Digit Recogntion\n",
    "\n",
    "이 과제에서는 손으로 쓴 숫자들의 이미지를 input으로 받아서 0~9 중 어느 숫자에 해당하는지를 분류하는 10-way Classification Problem을 풀어 볼 겁니다. 지금까지 실습은 가상의 인공 데이터셋이었다면 이번에는 real-world 데이터셋이니 좀 더 설레지 않나요?\n",
    "\n",
    "`pytorch` 내에 이미 구현되어 있는 MNIST Dataset을 사용하여 데이터가 공급됩니다.  \n",
    "대신 여러분들은 Model을 짜고 올바르게 Loss Function을 활용하는 코드를 작성하는데 집중해주시길 바랍니다.  \n",
    "\n",
    "1. 현재 Linear Model만 구현이 되어 있습니다. MLP Model을 2.Model Architecture 부분에 구현해주세요.\n",
    "2. MLP Model을 생성할 때 hidden unit 수와 hidden layer 수를 인풋으로 넣어주면 해당 값으로 MLP가 자동으로 생성되게 하는 코드를 구현해보세요.  \n",
    "3. 다양한 hidden_unit과 hidden_layer 그리고 learning rate를 바꿔가면서 정확도의 변화를 알려주세요(이 때 모델이 고정되었다면 learning rate부터 바꿔가면서 튜닝해보세요. 차트나 표를 자유롭게 활용하여 결과를 보여주세요.  \n",
    "4. 실험했던 결과 중 Test Set에 대한 Accuracy가 가장 높았던 실험 조건과 그때의 Accuracy를 알려주세요!  \n",
    "5. 양식은 따로 없으며 이 주피터 노트북의 뒷부분에 추가로 1~4의 내용을 덧붙여서 정리하면 되겠습니다!"
   ]
  },
  {
   "cell_type": "markdown",
   "id": "924da454",
   "metadata": {},
   "source": [
    "# 데이터 다운로드"
   ]
  },
  {
   "cell_type": "code",
   "execution_count": 1,
   "id": "72d4c572",
   "metadata": {},
   "outputs": [
    {
     "name": "stdout",
     "output_type": "stream",
     "text": [
      "Downloading http://yann.lecun.com/exdb/mnist/train-images-idx3-ubyte.gz\n",
      "Downloading http://yann.lecun.com/exdb/mnist/train-images-idx3-ubyte.gz to ./data\\MNIST\\raw\\train-images-idx3-ubyte.gz\n"
     ]
    },
    {
     "name": "stderr",
     "output_type": "stream",
     "text": [
      "100.0%\n"
     ]
    },
    {
     "name": "stdout",
     "output_type": "stream",
     "text": [
      "Extracting ./data\\MNIST\\raw\\train-images-idx3-ubyte.gz to ./data\\MNIST\\raw\n",
      "\n",
      "Downloading http://yann.lecun.com/exdb/mnist/train-labels-idx1-ubyte.gz\n"
     ]
    },
    {
     "name": "stderr",
     "output_type": "stream",
     "text": [
      "102.8%"
     ]
    },
    {
     "name": "stdout",
     "output_type": "stream",
     "text": [
      "Downloading http://yann.lecun.com/exdb/mnist/train-labels-idx1-ubyte.gz to ./data\\MNIST\\raw\\train-labels-idx1-ubyte.gz\n",
      "Extracting ./data\\MNIST\\raw\\train-labels-idx1-ubyte.gz to ./data\\MNIST\\raw\n",
      "\n",
      "Downloading http://yann.lecun.com/exdb/mnist/t10k-images-idx3-ubyte.gz\n"
     ]
    },
    {
     "name": "stderr",
     "output_type": "stream",
     "text": [
      "\n",
      "7.1%"
     ]
    },
    {
     "name": "stdout",
     "output_type": "stream",
     "text": [
      "Downloading http://yann.lecun.com/exdb/mnist/t10k-images-idx3-ubyte.gz to ./data\\MNIST\\raw\\t10k-images-idx3-ubyte.gz\n"
     ]
    },
    {
     "name": "stderr",
     "output_type": "stream",
     "text": [
      "100.0%\n"
     ]
    },
    {
     "name": "stdout",
     "output_type": "stream",
     "text": [
      "Extracting ./data\\MNIST\\raw\\t10k-images-idx3-ubyte.gz to ./data\\MNIST\\raw\n",
      "\n",
      "Downloading http://yann.lecun.com/exdb/mnist/t10k-labels-idx1-ubyte.gz\n"
     ]
    },
    {
     "name": "stderr",
     "output_type": "stream",
     "text": [
      "112.7%"
     ]
    },
    {
     "name": "stdout",
     "output_type": "stream",
     "text": [
      "Downloading http://yann.lecun.com/exdb/mnist/t10k-labels-idx1-ubyte.gz to ./data\\MNIST\\raw\\t10k-labels-idx1-ubyte.gz\n",
      "Extracting ./data\\MNIST\\raw\\t10k-labels-idx1-ubyte.gz to ./data\\MNIST\\raw\n",
      "\n"
     ]
    },
    {
     "name": "stderr",
     "output_type": "stream",
     "text": [
      "\n"
     ]
    },
    {
     "name": "stdout",
     "output_type": "stream",
     "text": [
      "50000 10000 10000\n"
     ]
    }
   ],
   "source": [
    "import torch\n",
    "from torchvision import datasets, transforms\n",
    "import torch.nn as nn\n",
    "\n",
    "\n",
    "batch_size = 128\n",
    "train_dataset = datasets.MNIST('./data', train=True, download=True,\n",
    "                   transform=transforms.Compose([\n",
    "                       transforms.ToTensor(),\n",
    "                       transforms.Normalize((0.1307,), (0.3081,))\n",
    "                   ]))\n",
    "test_dataset =  datasets.MNIST('./data', train=False, download=True,\n",
    "                   transform=transforms.Compose([\n",
    "                       transforms.ToTensor(),\n",
    "                       transforms.Normalize((0.1307,), (0.3081,))\n",
    "                   ]))\n",
    "train_dataset, val_dataset = torch.utils.data.random_split(train_dataset, [50000, 10000])\n",
    "print(len(train_dataset), len(val_dataset), len(test_dataset))\n",
    "\n",
    "train_loader = torch.utils.data.DataLoader(train_dataset, batch_size=128, shuffle=True)\n",
    "val_loader = torch.utils.data.DataLoader(val_dataset, batch_size=128, shuffle=False)\n",
    "test_loader = torch.utils.data.DataLoader(test_dataset, batch_size=128, shuffle=False)"
   ]
  },
  {
   "cell_type": "markdown",
   "id": "9e0d7e7b",
   "metadata": {},
   "source": [
    "# 데이터 검사"
   ]
  },
  {
   "cell_type": "code",
   "execution_count": 2,
   "id": "6c29952d",
   "metadata": {},
   "outputs": [
    {
     "data": {
      "image/png": "[encoded data removed]",
      "text/plain": [
       "<Figure size 1080x648 with 6 Axes>"
      ]
     },
     "metadata": {
      "needs_background": "light"
     },
     "output_type": "display_data"
    }
   ],
   "source": [
    "examples = enumerate(train_loader)\n",
    "batch_idx, (example_data, example_targets) = next(examples)  \n",
    "\n",
    "import matplotlib.pyplot as plt\n",
    "\n",
    "fig = plt.figure(figsize=(15, 9))\n",
    "for i in range(6):\n",
    "    plt.subplot(2,3,i+1)\n",
    "    plt.tight_layout()\n",
    "    plt.imshow(example_data[i][0], cmap='gray', interpolation='none')\n",
    "    plt.title(\"Ground Truth: {}\".format(example_targets[i]))\n",
    "plt.show()"
   ]
  },
  {
   "cell_type": "code",
   "execution_count": 12,
   "id": "8e338c1e",
   "metadata": {},
   "outputs": [],
   "source": [
    "class LinearModel(nn.Module):\n",
    "    def __init__(self): \n",
    "        super(LinearModel, self).__init__()\n",
    "        self.linear = nn.Linear(in_features=784, out_features=10, bias=True)\n",
    "    \n",
    "    def forward(self, x):\n",
    "        x = self.linear(x)\n",
    "        return x\n",
    "    \n",
    "class MLPModel(nn.Module):\n",
    "    def __init__(self, in_dim, out_dim, hidden_dim):\n",
    "        super(MLPModel, self).__init__()\n",
    "        self.linear1 = nn.Linear(in_features = in_dim, out_features = hidden_dim, bias=True)\n",
    "        self.linear2 = nn.Linear(in_features = hidden_dim, out_features = out_dim, bias=True)\n",
    "        self.act = nn.ReLU()\n",
    "    \n",
    "    def forward(self, x):\n",
    "        x = self.linear1(x)\n",
    "        x = self.act(x)\n",
    "        x = self.linear2(x)\n",
    "        return x\n",
    "    "
   ]
  },
  {
   "cell_type": "markdown",
   "id": "2e0cf96f",
   "metadata": {},
   "source": [
    "# costFunction 정의"
   ]
  },
  {
   "cell_type": "code",
   "execution_count": 13,
   "id": "09375f6d",
   "metadata": {},
   "outputs": [],
   "source": [
    "cls_loss = nn.CrossEntropyLoss()"
   ]
  },
  {
   "cell_type": "markdown",
   "id": "b7b3a779",
   "metadata": {},
   "source": [
    "# model test"
   ]
  },
  {
   "cell_type": "code",
   "execution_count": 14,
   "id": "dc21a8a3",
   "metadata": {},
   "outputs": [
    {
     "name": "stdout",
     "output_type": "stream",
     "text": [
      "torch.Size([1000, 10])\n"
     ]
    }
   ],
   "source": [
    "import numpy as np\n",
    "m = MLPModel(28*28, 10, 200)\n",
    "x = np.ones((1000, 28*28))\n",
    "x = torch.Tensor(x)\n",
    "pred_y = m(x)\n",
    "print(np.shape(pred_y))"
   ]
  },
  {
   "cell_type": "markdown",
   "id": "66ceb430",
   "metadata": {},
   "source": [
    "# Train & Evaluation"
   ]
  },
  {
   "cell_type": "code",
   "execution_count": 16,
   "id": "db2a3d98",
   "metadata": {},
   "outputs": [
    {
     "name": "stdout",
     "output_type": "stream",
     "text": [
      "Number of 159010 parameters\n",
      "Epoch: 0, Train Loss: 1.147852110283454, Val Loss: 0.626540789121314, Test Acc: 86.07000000000001%\n",
      "Epoch: 1, Train Loss: 0.5115130363827776, Val Loss: 0.4468683400486089, Test Acc: 89.0%\n",
      "Epoch: 2, Train Loss: 0.40377467489608415, Val Loss: 0.3870472775984414, Test Acc: 90.2%\n",
      "Epoch: 3, Train Loss: 0.35771765054949106, Val Loss: 0.35449581546119496, Test Acc: 90.94%\n",
      "Epoch: 4, Train Loss: 0.32971349046053483, Val Loss: 0.33375701572321637, Test Acc: 91.51%\n",
      "Epoch: 5, Train Loss: 0.3101802163797876, Val Loss: 0.31761054204234596, Test Acc: 91.67999999999999%\n",
      "Epoch: 6, Train Loss: 0.2944912083847139, Val Loss: 0.30261375481569314, Test Acc: 92.14%\n",
      "Epoch: 7, Train Loss: 0.2816205248046104, Val Loss: 0.29190789936464046, Test Acc: 92.43%\n",
      "Epoch: 8, Train Loss: 0.27045059562339197, Val Loss: 0.28243058919906616, Test Acc: 92.67%\n",
      "Epoch: 9, Train Loss: 0.2606102098970462, Val Loss: 0.2736312897899483, Test Acc: 92.92%\n",
      "Epoch: 10, Train Loss: 0.2513756585090666, Val Loss: 0.26635401082944266, Test Acc: 93.01%\n",
      "Epoch: 11, Train Loss: 0.24327834194426037, Val Loss: 0.25773590369315086, Test Acc: 93.32000000000001%\n",
      "Epoch: 12, Train Loss: 0.23566637784623734, Val Loss: 0.2509130605413944, Test Acc: 93.5%\n",
      "Epoch: 13, Train Loss: 0.22845645504229514, Val Loss: 0.24490379344058943, Test Acc: 93.56%\n",
      "Epoch: 14, Train Loss: 0.22183644440015562, Val Loss: 0.23817375575817085, Test Acc: 93.77%\n",
      "Epoch: 15, Train Loss: 0.21565137470088652, Val Loss: 0.23269147982325736, Test Acc: 93.91000000000001%\n",
      "Epoch: 16, Train Loss: 0.2096760575004551, Val Loss: 0.2273622692763051, Test Acc: 94.02000000000001%\n",
      "Epoch: 17, Train Loss: 0.2038444579600373, Val Loss: 0.22159421094987966, Test Acc: 94.22%\n",
      "Epoch: 18, Train Loss: 0.1987607682414372, Val Loss: 0.21703851166405255, Test Acc: 94.24%\n",
      "Epoch: 19, Train Loss: 0.19361559520749486, Val Loss: 0.2120235441606256, Test Acc: 94.35%\n",
      "Epoch: 20, Train Loss: 0.18871954098686844, Val Loss: 0.2079643503397326, Test Acc: 94.51%\n",
      "Epoch: 21, Train Loss: 0.18438385676621172, Val Loss: 0.2042878372948381, Test Acc: 94.54%\n",
      "Epoch: 22, Train Loss: 0.18010970648101834, Val Loss: 0.20048351981971838, Test Acc: 94.83%\n",
      "Epoch: 23, Train Loss: 0.17594473591774626, Val Loss: 0.19569208482398262, Test Acc: 94.86%\n",
      "Epoch: 24, Train Loss: 0.1720258345270096, Val Loss: 0.191970594227314, Test Acc: 95.03%\n",
      "Epoch: 25, Train Loss: 0.16820799569835138, Val Loss: 0.18809468997052953, Test Acc: 95.1%\n",
      "Epoch: 26, Train Loss: 0.16440908846152408, Val Loss: 0.18561377385749092, Test Acc: 95.14%\n",
      "Epoch: 27, Train Loss: 0.16096779810803016, Val Loss: 0.18220976164823846, Test Acc: 95.24000000000001%\n",
      "Epoch: 28, Train Loss: 0.15769912833181185, Val Loss: 0.17957395409481436, Test Acc: 95.33%\n",
      "Epoch: 29, Train Loss: 0.15431890361334966, Val Loss: 0.17631437299372274, Test Acc: 95.3%\n"
     ]
    }
   ],
   "source": [
    "import torch.optim as optim\n",
    "from sklearn.metrics import accuracy_score\n",
    "\n",
    "# ====== Construct Model ====== #\n",
    "model = MLPModel(28*28, 10, 200)\n",
    "print('Number of {} parameters'.format(sum(p.numel() for p in model.parameters() if p.requires_grad)))\n",
    "\n",
    "# ===== Construct Optimizer ====== #\n",
    "lr = 0.005 \n",
    "optimizer = optim.SGD(model.parameters(), lr=lr) \n",
    "\n",
    "list_epoch = [] \n",
    "list_train_loss = []\n",
    "list_val_loss = []\n",
    "list_acc = []\n",
    "list_acc_epoch = []\n",
    "\n",
    "epoch = 30\n",
    "for i in range(epoch):\n",
    "    \n",
    "    # ====== Train ====== #\n",
    "    train_loss = 0\n",
    "    model.train() \n",
    "    \n",
    "    for input_X, true_y in train_loader:\n",
    "        optimizer.zero_grad() # [21.01.05 오류 수정] 매 Epoch 마다 .zero_grad()가 실행되는 것을 매 iteration 마다 실행되도록 수정했습니다. \n",
    "\n",
    "        input_X = input_X.squeeze()\n",
    "        input_X = input_X.view(-1, 784)\n",
    "        pred_y = model(input_X)\n",
    "\n",
    "        loss = cls_loss(pred_y.squeeze(), true_y)\n",
    "        loss.backward() \n",
    "        optimizer.step() \n",
    "        train_loss += loss.detach().numpy()\n",
    "    train_loss = train_loss / len(train_loader)\n",
    "    list_train_loss.append(train_loss)\n",
    "    list_epoch.append(i)\n",
    "    \n",
    "    \n",
    "    # ====== Validation ====== #\n",
    "    val_loss = 0\n",
    "    model.eval()\n",
    "    # optimizer.zero_grad() [21.01.05 코드 클린업] 아래 torch.no_grad()가 호출되고 Validation 과정에서는 Optimizer를 사용하지 않으므로 굳이 호출될 필요가 없습니다. \n",
    "    \n",
    "    with torch.no_grad(): # [21.01.05 코드 클린업] Validation 과정에서 그라디언트가 활용되지 않도록 torch.no_grad() statement 안에서 코드를 실행합니다.\n",
    "        for input_X, true_y in val_loader:\n",
    "            input_X = input_X.squeeze()\n",
    "            input_X = input_X.view(-1, 784)\n",
    "            pred_y = model(input_X)\n",
    "\n",
    "            loss = cls_loss(pred_y.squeeze(), true_y)\n",
    "            val_loss += loss.detach().numpy()\n",
    "        val_loss = val_loss / len(val_loader)\n",
    "        list_val_loss.append(val_loss)\n",
    "\n",
    "\n",
    "    # ====== Evaluation ======= #\n",
    "    correct = 0\n",
    "    model.eval()\n",
    "    # optimizer.zero_grad() [21.01.05 코드 클린업] 아래 torch.no_grad()가 호출되고 Evaluation 과정에서는 Optimizer를 사용하지 않으므로 굳이 호출될 필요가 없습니다. \n",
    "\n",
    "    with torch.no_grad(): # [21.01.05 코드 클린업] Evaluation 과정에서 그라디언트가 활용되지 않도록 torch.no_grad() statement 안에서 코드를 실행합니다.\n",
    "        for input_X, true_y in test_loader:\n",
    "            input_X = input_X.squeeze()\n",
    "            input_X = input_X.view(-1, 784)\n",
    "            pred_y = model(input_X).max(1, keepdim=True)[1].squeeze()\n",
    "            correct += pred_y.eq(true_y).sum()\n",
    "\n",
    "        acc = correct.numpy() / len(test_loader.dataset)\n",
    "        list_acc.append(acc)\n",
    "        list_acc_epoch.append(i)\n",
    "    \n",
    "    print('Epoch: {}, Train Loss: {}, Val Loss: {}, Test Acc: {}%'.format(i, train_loss, val_loss, acc*100))"
   ]
  },
  {
   "cell_type": "code",
   "execution_count": null,
   "id": "abf8eb66",
   "metadata": {},
   "outputs": [],
   "source": []
  }
 ],
 "metadata": {
  "kernelspec": {
   "display_name": "Python 3 (ipykernel)",
   "language": "python",
   "name": "python3"
  },
  "language_info": {
   "codemirror_mode": {
    "name": "ipython",
    "version": 3
   },
   "file_extension": ".py",
   "mimetype": "text/x-python",
   "name": "python",
   "nbconvert_exporter": "python",
   "pygments_lexer": "ipython3",
   "version": "3.7.11"
  }
 },
 "nbformat": 4,
 "nbformat_minor": 5
}
